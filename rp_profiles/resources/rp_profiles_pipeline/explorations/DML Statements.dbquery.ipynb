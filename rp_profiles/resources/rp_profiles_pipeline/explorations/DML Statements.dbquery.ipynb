{
 "cells": [
  {
   "cell_type": "code",
   "execution_count": 0,
   "metadata": {
    "application/vnd.databricks.v1+cell": {
     "cellMetadata": {
      "byteLimit": 10485760,
      "rowLimit": 1000
     },
     "inputWidgets": {},
     "nuid": "7ae31098-5ed9-436d-9c81-f69e3838a98f",
     "showTitle": false,
     "tableResultSettingsMap": {},
     "title": ""
    }
   },
   "outputs": [],
   "source": [
    "use mgiglia.dev_matthew_giglia_kafka_delta_sinks;\n",
    "\n",
    "select current_catalog(), current_schema();\n",
    "\n",
    "show tables;\n",
    "\n",
    "-- drop table if exists profiles_kafka_delta_sink;\n",
    "-- drop table if exists hello_world_kafka_delta_sink;\n",
    "-- drop table if exists `__redpanda_connect_logs_kafka_delta_sink`;\n",
    "-- drop table if exists `__redpanda_connect_status_kafka_delta_sink`;\n",
    "\n",
    "show tables;"
   ]
  }
 ],
 "metadata": {
  "application/vnd.databricks.v1+notebook": {
   "computePreferences": null,
   "dashboards": [],
   "environmentMetadata": null,
   "inputWidgetPreferences": null,
   "language": "sql",
   "notebookMetadata": {
    "pythonIndentUnit": 2,
    "sqlQueryOptions": {
     "applyAutoLimit": true,
     "catalog": "redpanda_dev",
     "schema": "dev_matthew_giglia_profiles"
    }
   },
   "notebookName": "DML Statements.dbquery.ipynb",
   "widgets": {}
  },
  "language_info": {
   "name": "sql"
  }
 },
 "nbformat": 4,
 "nbformat_minor": 0
}
