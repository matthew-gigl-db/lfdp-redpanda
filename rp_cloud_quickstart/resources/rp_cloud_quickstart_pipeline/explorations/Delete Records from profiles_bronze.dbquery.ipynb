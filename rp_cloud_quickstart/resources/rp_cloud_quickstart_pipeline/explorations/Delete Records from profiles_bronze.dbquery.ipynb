{
 "cells": [
  {
   "cell_type": "code",
   "execution_count": 0,
   "metadata": {
    "application/vnd.databricks.v1+cell": {
     "cellMetadata": {
      "byteLimit": 10485760,
      "rowLimit": 1000
     },
     "inputWidgets": {},
     "nuid": "444f91d0-f580-4150-8249-36bfed1923be",
     "showTitle": false,
     "tableResultSettingsMap": {},
     "title": ""
    }
   },
   "outputs": [],
   "source": [
    "USE mgiglia.redpanda;\n",
    "\n",
    "-- Select the offsets to delete from the streaming table\n",
    "SELECT * \n",
    "FROM profiles_bronze\n",
    "WHERE offset IN (\n",
    "  SELECT random_offsets FROM mv_random_offset_deletes\n",
    ");\n",
    "\n",
    "-- Delete the records\n",
    "DELETE FROM profiles_bronze\n",
    "WHERE offset IN (\n",
    "  SELECT random_offsets FROM mv_random_offset_deletes\n",
    ");\n",
    "\n",
    "-- Check again that their gone.\n",
    "SELECT count(*) as kept_records \n",
    "FROM profiles_bronze\n",
    "WHERE offset IN (\n",
    "  SELECT random_offsets FROM mv_random_offset_deletes\n",
    ");"
   ]
  }
 ],
 "metadata": {
  "application/vnd.databricks.v1+notebook": {
   "computePreferences": null,
   "dashboards": [],
   "environmentMetadata": null,
   "inputWidgetPreferences": null,
   "language": "sql",
   "notebookMetadata": {
    "pythonIndentUnit": 2,
    "sqlQueryOptions": {
     "applyAutoLimit": true,
     "catalog": "mgiglia",
     "schema": "dev_matthew_giglia_redpanda"
    }
   },
   "notebookName": "Delete Records from profiles_bronze.dbquery.ipynb",
   "widgets": {}
  },
  "language_info": {
   "name": "sql"
  }
 },
 "nbformat": 4,
 "nbformat_minor": 0
}
