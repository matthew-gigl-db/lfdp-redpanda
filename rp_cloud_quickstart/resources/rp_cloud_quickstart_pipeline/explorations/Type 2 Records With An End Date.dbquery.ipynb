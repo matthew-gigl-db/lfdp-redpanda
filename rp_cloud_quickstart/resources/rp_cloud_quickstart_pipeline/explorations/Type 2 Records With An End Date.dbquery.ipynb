{
 "cells": [
  {
   "cell_type": "code",
   "execution_count": 0,
   "metadata": {
    "application/vnd.databricks.v1+cell": {
     "cellMetadata": {
      "byteLimit": 10485760,
      "rowLimit": 1000
     },
     "inputWidgets": {},
     "nuid": "c5d07c11-dd38-46d5-a97a-868bea9d7566",
     "showTitle": false,
     "tableResultSettingsMap": {},
     "title": ""
    }
   },
   "outputs": [],
   "source": [
    "use mgiglia.dev_matthew_giglia_redpanda;\n",
    "\n",
    "-- show commit totals \n",
    "FROM profile_commits;\n",
    "\n",
    "-- show that some records have been updated with an end date\n",
    "FROM profiles_scd2 |>\n",
    "WHERE `__END_AT` IS NOT NULL;\n",
    "\n",
    "-- count records with an end date\n",
    "FROM profiles_scd2 |>\n",
    "WHERE `__END_AT` IS NOT NULL |>\n",
    "AGGREGATE count(*) AS rcrd_cnt\n",
    "GROUP BY `__END_AT`.`_commit_version`;\n",
    "\n",
    "FROM STREAM(profiles_cdf) |>\n",
    "SELECT *, parse_json(value_str) as variant_col |>\n",
    "SELECT \n",
    "   topic\n",
    "  ,partition\n",
    "  ,offset\n",
    "  ,timestamp\n",
    "  ,timestampType\n",
    "  ,ingestTime\n",
    "  ,variant_col:email::string as email\n",
    "  ,variant_col:first_name::string as first_name\n",
    "  ,variant_col:last_name::string as last_name\n",
    "  ,variant_col:last_login::timestamp as last_login\n",
    "  ,variant_col:registration_date::date as registration_date\n",
    "  ,variant_col:preferences::struct<language: string, notifications: string> as preferences\n",
    "  ,variant_col:subscription_level::string as subscription_level\n",
    "  ,variant_col:user_id::string as user_id\n",
    "  ,_change_type\n",
    "  ,_commit_version\n",
    "  ,_commit_timestamp\n",
    "\n",
    "SELECT \n",
    "      topic\n",
    "      ,partition\n",
    "      ,offset\n",
    "      ,timestamp\n",
    "      ,timestampType\n",
    "      ,ingestTime\n",
    "      ,variant_col:email::string as email\n",
    "      ,variant_col:first_name::string as first_name\n",
    "      ,variant_col:last_name::string as last_name\n",
    "      ,variant_col:last_login::timestamp as last_login\n",
    "      ,variant_col:registration_date::date as registration_date\n",
    "      ,variant_col:preferences::struct<language: string, notifications: string> as preferences\n",
    "      ,variant_col:subscription_level::string as subscription_level\n",
    "      ,variant_col:user_id::string as user_id\n",
    "      ,_change_type, _commit_version, _commit_timestamp\n",
    "    FROM (\n",
    "      FROM STREAM(profiles_cdf) |>\n",
    "      SELECT *, parse_json(value_str) as variant_col\n",
    "    )"
   ]
  }
 ],
 "metadata": {
  "application/vnd.databricks.v1+notebook": {
   "computePreferences": null,
   "dashboards": [],
   "environmentMetadata": null,
   "inputWidgetPreferences": null,
   "language": "sql",
   "notebookMetadata": {
    "pythonIndentUnit": 2,
    "sqlQueryOptions": {
     "applyAutoLimit": true,
     "catalog": "mgiglia",
     "schema": "dev_matthew_giglia_redpanda"
    }
   },
   "notebookName": "Type 2 Records With An End Date.dbquery.ipynb",
   "widgets": {}
  },
  "language_info": {
   "name": "sql"
  }
 },
 "nbformat": 4,
 "nbformat_minor": 0
}
